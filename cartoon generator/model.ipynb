{
 "cells": [
  {
   "cell_type": "code",
   "execution_count": null,
   "metadata": {},
   "outputs": [],
   "source": [
    "import cv2\n",
    "import numpy as np\n",
    "import pickle\n",
    "\n",
    "# Define the Cartoonizer class\n",
    "class Cartoonizer:\n",
    "    def __init__(self, line_size=7, blur_value=7, k=9):\n",
    "        self.line_size = line_size\n",
    "        self.blur_value = blur_value\n",
    "        self.k = k\n",
    "\n",
    "    def edge_mask(self, img):\n",
    "        gray = cv2.cvtColor(img, cv2.COLOR_RGB2GRAY)\n",
    "        gray_blur = cv2.medianBlur(gray, self.blur_value)\n",
    "        edges = cv2.adaptiveThreshold(gray_blur, 255, cv2.ADAPTIVE_THRESH_MEAN_C,\n",
    "                                      cv2.THRESH_BINARY, self.line_size, self.blur_value)\n",
    "        return edges\n",
    "\n",
    "    def color_quantization(self, img):\n",
    "        data = np.float32(img).reshape((-1, 3))\n",
    "        criteria = (cv2.TERM_CRITERIA_EPS + cv2.TERM_CRITERIA_MAX_ITER, 20, 0.001)\n",
    "        _, label, center = cv2.kmeans(data, self.k, None, criteria, 10, cv2.KMEANS_RANDOM_CENTERS)\n",
    "        center = np.uint8(center)\n",
    "        result = center[label.flatten()]\n",
    "        result = result.reshape(img.shape)\n",
    "        return result\n",
    "\n",
    "    def cartoonize(self, img):\n",
    "        edges = self.edge_mask(img)\n",
    "        img = self.color_quantization(img)\n",
    "        blurred = cv2.bilateralFilter(img, d=3, sigmaColor=200, sigmaSpace=200)\n",
    "        cartoon = cv2.bitwise_and(blurred, blurred, mask=edges)\n",
    "        return cartoon\n",
    "\n",
    "# Instantiate the Cartoonizer class\n",
    "cartoonizer = Cartoonizer()\n",
    "\n",
    "# Save the model to a .pkl file\n",
    "with open('cartoonizer_model.pkl', 'wb') as file:\n",
    "    pickle.dump(cartoonizer, file)\n",
    "\n",
    "print(\"Model saved to cartoonizer_model.pkl\")\n"
   ]
  }
 ],
 "metadata": {
  "language_info": {
   "name": "python"
  }
 },
 "nbformat": 4,
 "nbformat_minor": 2
}
